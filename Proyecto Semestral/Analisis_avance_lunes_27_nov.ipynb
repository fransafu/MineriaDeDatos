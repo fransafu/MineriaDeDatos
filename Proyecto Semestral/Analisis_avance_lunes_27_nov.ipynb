{
 "cells": [
  {
   "cell_type": "code",
   "execution_count": 1,
   "metadata": {},
   "outputs": [
    {
     "name": "stdout",
     "output_type": "stream",
     "text": [
      "Populating the interactive namespace from numpy and matplotlib\n"
     ]
    },
    {
     "data": {
      "text/html": [
       "<div>\n",
       "<style scoped>\n",
       "    .dataframe tbody tr th:only-of-type {\n",
       "        vertical-align: middle;\n",
       "    }\n",
       "\n",
       "    .dataframe tbody tr th {\n",
       "        vertical-align: top;\n",
       "    }\n",
       "\n",
       "    .dataframe thead th {\n",
       "        text-align: right;\n",
       "    }\n",
       "</style>\n",
       "<table border=\"1\" class=\"dataframe\">\n",
       "  <thead>\n",
       "    <tr style=\"text-align: right;\">\n",
       "      <th></th>\n",
       "      <th>DIRECTOR_GENERO</th>\n",
       "      <th>DIRECTOR_ID</th>\n",
       "      <th>TIEMPO</th>\n",
       "      <th>VOTO_PROMEDIO</th>\n",
       "      <th>POPULARIDAD_DETALLE</th>\n",
       "      <th>VOTO_CONTADOR</th>\n",
       "      <th>GENERO</th>\n",
       "      <th>ANIO</th>\n",
       "      <th>ID_PELICULA</th>\n",
       "      <th>POPULARIDAD</th>\n",
       "      <th>RATING_PROMEDIO</th>\n",
       "      <th>RANKING</th>\n",
       "    </tr>\n",
       "  </thead>\n",
       "  <tbody>\n",
       "    <tr>\n",
       "      <th>0</th>\n",
       "      <td>2</td>\n",
       "      <td>2224</td>\n",
       "      <td>194</td>\n",
       "      <td>7.0</td>\n",
       "      <td>1.115168</td>\n",
       "      <td>1.0</td>\n",
       "      <td>99</td>\n",
       "      <td>2003</td>\n",
       "      <td>1</td>\n",
       "      <td>1.115168</td>\n",
       "      <td>3.749543</td>\n",
       "      <td>3</td>\n",
       "    </tr>\n",
       "    <tr>\n",
       "      <th>1</th>\n",
       "      <td>2</td>\n",
       "      <td>2224</td>\n",
       "      <td>194</td>\n",
       "      <td>7.0</td>\n",
       "      <td>1.115168</td>\n",
       "      <td>1.0</td>\n",
       "      <td>99</td>\n",
       "      <td>2003</td>\n",
       "      <td>1</td>\n",
       "      <td>1.115168</td>\n",
       "      <td>3.749543</td>\n",
       "      <td>5</td>\n",
       "    </tr>\n",
       "    <tr>\n",
       "      <th>2</th>\n",
       "      <td>2</td>\n",
       "      <td>2224</td>\n",
       "      <td>194</td>\n",
       "      <td>7.0</td>\n",
       "      <td>1.115168</td>\n",
       "      <td>1.0</td>\n",
       "      <td>99</td>\n",
       "      <td>2003</td>\n",
       "      <td>1</td>\n",
       "      <td>1.115168</td>\n",
       "      <td>3.749543</td>\n",
       "      <td>4</td>\n",
       "    </tr>\n",
       "    <tr>\n",
       "      <th>3</th>\n",
       "      <td>2</td>\n",
       "      <td>2224</td>\n",
       "      <td>194</td>\n",
       "      <td>7.0</td>\n",
       "      <td>1.115168</td>\n",
       "      <td>1.0</td>\n",
       "      <td>99</td>\n",
       "      <td>2003</td>\n",
       "      <td>1</td>\n",
       "      <td>1.115168</td>\n",
       "      <td>3.749543</td>\n",
       "      <td>4</td>\n",
       "    </tr>\n",
       "    <tr>\n",
       "      <th>4</th>\n",
       "      <td>2</td>\n",
       "      <td>2224</td>\n",
       "      <td>194</td>\n",
       "      <td>7.0</td>\n",
       "      <td>1.115168</td>\n",
       "      <td>1.0</td>\n",
       "      <td>99</td>\n",
       "      <td>2003</td>\n",
       "      <td>1</td>\n",
       "      <td>1.115168</td>\n",
       "      <td>3.749543</td>\n",
       "      <td>3</td>\n",
       "    </tr>\n",
       "  </tbody>\n",
       "</table>\n",
       "</div>"
      ],
      "text/plain": [
       "   DIRECTOR_GENERO  DIRECTOR_ID  TIEMPO  VOTO_PROMEDIO  POPULARIDAD_DETALLE  \\\n",
       "0                2         2224     194            7.0             1.115168   \n",
       "1                2         2224     194            7.0             1.115168   \n",
       "2                2         2224     194            7.0             1.115168   \n",
       "3                2         2224     194            7.0             1.115168   \n",
       "4                2         2224     194            7.0             1.115168   \n",
       "\n",
       "   VOTO_CONTADOR  GENERO  ANIO  ID_PELICULA  POPULARIDAD  RATING_PROMEDIO  \\\n",
       "0            1.0      99  2003            1     1.115168         3.749543   \n",
       "1            1.0      99  2003            1     1.115168         3.749543   \n",
       "2            1.0      99  2003            1     1.115168         3.749543   \n",
       "3            1.0      99  2003            1     1.115168         3.749543   \n",
       "4            1.0      99  2003            1     1.115168         3.749543   \n",
       "\n",
       "   RANKING  \n",
       "0        3  \n",
       "1        5  \n",
       "2        4  \n",
       "3        4  \n",
       "4        3  "
      ]
     },
     "execution_count": 1,
     "metadata": {},
     "output_type": "execute_result"
    }
   ],
   "source": [
    "# -*- coding: utf-8 -*-\n",
    "\n",
    "# Importar librerias\n",
    "import pandas as pd\n",
    "import matplotlib.pyplot as plt\n",
    "import numpy as np\n",
    "import scipy.stats as stats\n",
    "import seaborn as sns\n",
    "from matplotlib import rcParams\n",
    "\n",
    "# Configuraciones\n",
    "%matplotlib inline \n",
    "%pylab inline \n",
    "\n",
    "# Lectura de archivo\n",
    "myData = pd.read_csv('./merge_v2.csv', sep=',', encoding='utf-8', nrows=20000000, engine='c')\n",
    "\n",
    "# Mostrar Tabla de datos para archivo\n",
    "myData.head()"
   ]
  },
  {
   "cell_type": "code",
   "execution_count": 2,
   "metadata": {},
   "outputs": [
    {
     "data": {
      "text/plain": [
       "'\\nVariables de estudio:\\n\\nRATING_PROMEDIO\\nVOTO_PROMEDIO\\nTIEMPO\\nVOTO_CONTADOR\\nPOPULARIDAD\\nANIO\\nPOPULARIDAD_DETALLE\\nGENERO\\nDIRECTOR_ID\\nDIRECTOR_GENERO\\nID_PELICULA\\n\\nVariable objetivo:\\n\\nRANKING\\n'"
      ]
     },
     "execution_count": 2,
     "metadata": {},
     "output_type": "execute_result"
    }
   ],
   "source": [
    "\"\"\"\n",
    "Variables de estudio:\n",
    "\n",
    "RATING_PROMEDIO\n",
    "VOTO_PROMEDIO\n",
    "TIEMPO\n",
    "VOTO_CONTADOR\n",
    "POPULARIDAD\n",
    "ANIO\n",
    "POPULARIDAD_DETALLE\n",
    "GENERO\n",
    "DIRECTOR_ID\n",
    "DIRECTOR_GENERO\n",
    "ID_PELICULA\n",
    "\n",
    "Variable objetivo:\n",
    "\n",
    "RANKING\n",
    "\"\"\"\n",
    "# Obtener frecuencia de peliculas y su ID en un diccionario\n",
    "# counts = myData.ID_PELICULA.value_counts().to_dict()\n",
    "# counts"
   ]
  },
  {
   "cell_type": "code",
   "execution_count": 3,
   "metadata": {},
   "outputs": [
    {
     "data": {
      "text/plain": [
       "571      309664\n",
       "4306     302584\n",
       "3427     273700\n",
       "3106     270862\n",
       "1220     268482\n",
       "30       236826\n",
       "1428     227348\n",
       "1180     217542\n",
       "2913     214886\n",
       "607      200496\n",
       "313      199624\n",
       "1110     197400\n",
       "6287     193295\n",
       "175      180900\n",
       "798      162556\n",
       "197      162520\n",
       "1144     159690\n",
       "1202     157756\n",
       "3368     156426\n",
       "357      154628\n",
       "12232    152406\n",
       "1406     148152\n",
       "8782     147251\n",
       "708      144762\n",
       "12582    143682\n",
       "8644     141073\n",
       "6134     132237\n",
       "2800     131400\n",
       "4330     126084\n",
       "6692     125479\n",
       "          ...  \n",
       "7950         97\n",
       "10160        97\n",
       "11973        95\n",
       "12119        95\n",
       "11791        95\n",
       "6288         94\n",
       "8642         93\n",
       "8891         92\n",
       "6261         91\n",
       "6265         91\n",
       "8841         90\n",
       "12041        89\n",
       "12559        88\n",
       "6745         88\n",
       "6653         88\n",
       "8823         88\n",
       "10026        86\n",
       "6272         86\n",
       "12615        86\n",
       "8876         81\n",
       "8202         79\n",
       "6770         73\n",
       "12129        71\n",
       "6894         68\n",
       "9979         63\n",
       "6743         60\n",
       "6711         57\n",
       "10011        43\n",
       "11838        38\n",
       "12418        22\n",
       "Name: ID_PELICULA, Length: 1577, dtype: int64"
      ]
     },
     "execution_count": 3,
     "metadata": {},
     "output_type": "execute_result"
    }
   ],
   "source": [
    "# Ver frecuencia de peliculas calificadas segun ID_PELICULAS\n",
    "myData.ID_PELICULA.value_counts()"
   ]
  },
  {
   "cell_type": "code",
   "execution_count": 4,
   "metadata": {},
   "outputs": [
    {
     "data": {
      "text/plain": [
       "(20000000, 12)"
      ]
     },
     "execution_count": 4,
     "metadata": {},
     "output_type": "execute_result"
    }
   ],
   "source": [
    "# Ver numero de filas y columnas\n",
    "# (filas, columnas)\n",
    "myData.shape"
   ]
  },
  {
   "cell_type": "code",
   "execution_count": 5,
   "metadata": {},
   "outputs": [
    {
     "data": {
      "text/html": [
       "<div>\n",
       "<style scoped>\n",
       "    .dataframe tbody tr th:only-of-type {\n",
       "        vertical-align: middle;\n",
       "    }\n",
       "\n",
       "    .dataframe tbody tr th {\n",
       "        vertical-align: top;\n",
       "    }\n",
       "\n",
       "    .dataframe thead th {\n",
       "        text-align: right;\n",
       "    }\n",
       "</style>\n",
       "<table border=\"1\" class=\"dataframe\">\n",
       "  <thead>\n",
       "    <tr style=\"text-align: right;\">\n",
       "      <th></th>\n",
       "      <th>DIRECTOR_GENERO</th>\n",
       "      <th>DIRECTOR_ID</th>\n",
       "      <th>TIEMPO</th>\n",
       "      <th>VOTO_PROMEDIO</th>\n",
       "      <th>POPULARIDAD_DETALLE</th>\n",
       "      <th>VOTO_CONTADOR</th>\n",
       "      <th>GENERO</th>\n",
       "      <th>ANIO</th>\n",
       "      <th>ID_PELICULA</th>\n",
       "      <th>POPULARIDAD</th>\n",
       "      <th>RATING_PROMEDIO</th>\n",
       "      <th>RANKING</th>\n",
       "    </tr>\n",
       "  </thead>\n",
       "  <tbody>\n",
       "    <tr>\n",
       "      <th>count</th>\n",
       "      <td>2.000000e+07</td>\n",
       "      <td>2.000000e+07</td>\n",
       "      <td>2.000000e+07</td>\n",
       "      <td>2.000000e+07</td>\n",
       "      <td>2.000000e+07</td>\n",
       "      <td>2.000000e+07</td>\n",
       "      <td>2.000000e+07</td>\n",
       "      <td>2.000000e+07</td>\n",
       "      <td>2.000000e+07</td>\n",
       "      <td>2.000000e+07</td>\n",
       "      <td>2.000000e+07</td>\n",
       "      <td>2.000000e+07</td>\n",
       "    </tr>\n",
       "    <tr>\n",
       "      <th>mean</th>\n",
       "      <td>1.802044e+00</td>\n",
       "      <td>1.607974e+04</td>\n",
       "      <td>1.132192e+02</td>\n",
       "      <td>6.639374e+00</td>\n",
       "      <td>1.285341e+01</td>\n",
       "      <td>9.754849e+02</td>\n",
       "      <td>7.790416e+02</td>\n",
       "      <td>1.993777e+03</td>\n",
       "      <td>4.919311e+03</td>\n",
       "      <td>1.285341e+01</td>\n",
       "      <td>3.582264e+00</td>\n",
       "      <td>3.582262e+00</td>\n",
       "    </tr>\n",
       "    <tr>\n",
       "      <th>std</th>\n",
       "      <td>4.527783e-01</td>\n",
       "      <td>7.453040e+04</td>\n",
       "      <td>2.175186e+01</td>\n",
       "      <td>8.873931e-01</td>\n",
       "      <td>5.934932e+00</td>\n",
       "      <td>1.155064e+03</td>\n",
       "      <td>2.644317e+03</td>\n",
       "      <td>1.254412e+01</td>\n",
       "      <td>4.077282e+03</td>\n",
       "      <td>5.934932e+00</td>\n",
       "      <td>3.602757e-01</td>\n",
       "      <td>1.060309e+00</td>\n",
       "    </tr>\n",
       "    <tr>\n",
       "      <th>min</th>\n",
       "      <td>0.000000e+00</td>\n",
       "      <td>3.000000e+00</td>\n",
       "      <td>0.000000e+00</td>\n",
       "      <td>0.000000e+00</td>\n",
       "      <td>1.000157e+00</td>\n",
       "      <td>0.000000e+00</td>\n",
       "      <td>1.200000e+01</td>\n",
       "      <td>1.915000e+03</td>\n",
       "      <td>1.000000e+00</td>\n",
       "      <td>1.000157e+00</td>\n",
       "      <td>1.487395e+00</td>\n",
       "      <td>1.000000e+00</td>\n",
       "    </tr>\n",
       "    <tr>\n",
       "      <th>25%</th>\n",
       "      <td>2.000000e+00</td>\n",
       "      <td>1.158000e+03</td>\n",
       "      <td>9.800000e+01</td>\n",
       "      <td>6.100000e+00</td>\n",
       "      <td>8.698468e+00</td>\n",
       "      <td>1.770000e+02</td>\n",
       "      <td>1.800000e+01</td>\n",
       "      <td>1.990000e+03</td>\n",
       "      <td>1.110000e+03</td>\n",
       "      <td>8.698468e+00</td>\n",
       "      <td>3.372197e+00</td>\n",
       "      <td>3.000000e+00</td>\n",
       "    </tr>\n",
       "    <tr>\n",
       "      <th>50%</th>\n",
       "      <td>2.000000e+00</td>\n",
       "      <td>3.490000e+03</td>\n",
       "      <td>1.110000e+02</td>\n",
       "      <td>6.700000e+00</td>\n",
       "      <td>1.225251e+01</td>\n",
       "      <td>4.720000e+02</td>\n",
       "      <td>2.800000e+01</td>\n",
       "      <td>1.999000e+03</td>\n",
       "      <td>3.481000e+03</td>\n",
       "      <td>1.225251e+01</td>\n",
       "      <td>3.590587e+00</td>\n",
       "      <td>4.000000e+00</td>\n",
       "    </tr>\n",
       "    <tr>\n",
       "      <th>75%</th>\n",
       "      <td>2.000000e+00</td>\n",
       "      <td>1.185900e+04</td>\n",
       "      <td>1.250000e+02</td>\n",
       "      <td>7.300000e+00</td>\n",
       "      <td>1.642372e+01</td>\n",
       "      <td>1.440000e+03</td>\n",
       "      <td>3.500000e+01</td>\n",
       "      <td>2.002000e+03</td>\n",
       "      <td>8.512000e+03</td>\n",
       "      <td>1.642372e+01</td>\n",
       "      <td>3.832656e+00</td>\n",
       "      <td>4.000000e+00</td>\n",
       "    </tr>\n",
       "    <tr>\n",
       "      <th>max</th>\n",
       "      <td>2.000000e+00</td>\n",
       "      <td>1.701118e+06</td>\n",
       "      <td>6.600000e+02</td>\n",
       "      <td>1.000000e+01</td>\n",
       "      <td>2.941496e+01</td>\n",
       "      <td>6.269000e+03</td>\n",
       "      <td>1.077000e+04</td>\n",
       "      <td>2.005000e+03</td>\n",
       "      <td>1.264500e+04</td>\n",
       "      <td>2.941496e+01</td>\n",
       "      <td>4.504035e+00</td>\n",
       "      <td>5.000000e+00</td>\n",
       "    </tr>\n",
       "  </tbody>\n",
       "</table>\n",
       "</div>"
      ],
      "text/plain": [
       "       DIRECTOR_GENERO   DIRECTOR_ID        TIEMPO  VOTO_PROMEDIO  \\\n",
       "count     2.000000e+07  2.000000e+07  2.000000e+07   2.000000e+07   \n",
       "mean      1.802044e+00  1.607974e+04  1.132192e+02   6.639374e+00   \n",
       "std       4.527783e-01  7.453040e+04  2.175186e+01   8.873931e-01   \n",
       "min       0.000000e+00  3.000000e+00  0.000000e+00   0.000000e+00   \n",
       "25%       2.000000e+00  1.158000e+03  9.800000e+01   6.100000e+00   \n",
       "50%       2.000000e+00  3.490000e+03  1.110000e+02   6.700000e+00   \n",
       "75%       2.000000e+00  1.185900e+04  1.250000e+02   7.300000e+00   \n",
       "max       2.000000e+00  1.701118e+06  6.600000e+02   1.000000e+01   \n",
       "\n",
       "       POPULARIDAD_DETALLE  VOTO_CONTADOR        GENERO          ANIO  \\\n",
       "count         2.000000e+07   2.000000e+07  2.000000e+07  2.000000e+07   \n",
       "mean          1.285341e+01   9.754849e+02  7.790416e+02  1.993777e+03   \n",
       "std           5.934932e+00   1.155064e+03  2.644317e+03  1.254412e+01   \n",
       "min           1.000157e+00   0.000000e+00  1.200000e+01  1.915000e+03   \n",
       "25%           8.698468e+00   1.770000e+02  1.800000e+01  1.990000e+03   \n",
       "50%           1.225251e+01   4.720000e+02  2.800000e+01  1.999000e+03   \n",
       "75%           1.642372e+01   1.440000e+03  3.500000e+01  2.002000e+03   \n",
       "max           2.941496e+01   6.269000e+03  1.077000e+04  2.005000e+03   \n",
       "\n",
       "        ID_PELICULA   POPULARIDAD  RATING_PROMEDIO       RANKING  \n",
       "count  2.000000e+07  2.000000e+07     2.000000e+07  2.000000e+07  \n",
       "mean   4.919311e+03  1.285341e+01     3.582264e+00  3.582262e+00  \n",
       "std    4.077282e+03  5.934932e+00     3.602757e-01  1.060309e+00  \n",
       "min    1.000000e+00  1.000157e+00     1.487395e+00  1.000000e+00  \n",
       "25%    1.110000e+03  8.698468e+00     3.372197e+00  3.000000e+00  \n",
       "50%    3.481000e+03  1.225251e+01     3.590587e+00  4.000000e+00  \n",
       "75%    8.512000e+03  1.642372e+01     3.832656e+00  4.000000e+00  \n",
       "max    1.264500e+04  2.941496e+01     4.504035e+00  5.000000e+00  "
      ]
     },
     "execution_count": 5,
     "metadata": {},
     "output_type": "execute_result"
    }
   ],
   "source": [
    "# Describir datos\n",
    "myData.describe()"
   ]
  },
  {
   "cell_type": "code",
   "execution_count": 6,
   "metadata": {},
   "outputs": [
    {
     "data": {
      "image/png": "[encoded data removed]",
      "text/plain": [
       "<matplotlib.figure.Figure at 0x7ff21c09a590>"
      ]
     },
     "metadata": {},
     "output_type": "display_data"
    }
   ],
   "source": [
    "# Grafico sobre frecuencia v/s ID_PELICULAS\n",
    "sns.countplot(x=\"ID_PELICULA\", data=myData, palette=\"Greens_d\")\n",
    "plt.show()"
   ]
  },
  {
   "cell_type": "code",
   "execution_count": 7,
   "metadata": {},
   "outputs": [
    {
     "data": {
      "text/plain": [
       "1577"
      ]
     },
     "execution_count": 7,
     "metadata": {},
     "output_type": "execute_result"
    }
   ],
   "source": [
    "# Numero de Peliculas\n",
    "len(myData.ID_PELICULA.value_counts())"
   ]
  },
  {
   "cell_type": "code",
   "execution_count": 8,
   "metadata": {},
   "outputs": [
    {
     "data": {
      "image/png": "[encoded data removed]",
      "text/plain": [
       "<matplotlib.figure.Figure at 0x7ff1c7adbf90>"
      ]
     },
     "metadata": {},
     "output_type": "display_data"
    }
   ],
   "source": [
    "# Correlacion entre variables y graficar\n",
    "corrvariables = myData[[\"DIRECTOR_GENERO\", \n",
    "                        \"DIRECTOR_ID\", \n",
    "                        \"TIEMPO\", \n",
    "                        \"VOTO_PROMEDIO\", \n",
    "                        \"POPULARIDAD_DETALLE\", \n",
    "                        \"VOTO_CONTADOR\", \n",
    "                        \"GENERO\", \n",
    "                        \"ANIO\", \n",
    "                        \"ID_PELICULA\", \n",
    "                        \"POPULARIDAD\", \n",
    "                        \"RATING_PROMEDIO\", \n",
    "                        \"RANKING\"]].corr()\n",
    "mask = np.array(corrvariables)\n",
    "mask[np.tril_indices_from(mask)] = False\n",
    "fig, ax = plt.subplots()\n",
    "fig.set_size_inches(20, 10)\n",
    "sns.heatmap(corrvariables, mask=mask, vmax = .10, square = True, annot = True)\n",
    "plt.show()"
   ]
  },
  {
   "cell_type": "code",
   "execution_count": 9,
   "metadata": {},
   "outputs": [
    {
     "name": "stderr",
     "output_type": "stream",
     "text": [
      "/usr/local/lib/python2.7/dist-packages/sklearn/cross_validation.py:41: DeprecationWarning: This module was deprecated in version 0.18 in favor of the model_selection module into which all the refactored classes and functions are moved. Also note that the interface of the new CV iterators are different from that of this module. This module will be removed in 0.20.\n",
      "  \"This module will be removed in 0.20.\", DeprecationWarning)\n"
     ]
    }
   ],
   "source": [
    "# Importar librerias para arbol de decision\n",
    "from sklearn.cross_validation import train_test_split\n",
    "from sklearn.tree import DecisionTreeClassifier\n",
    "from sklearn.metrics import classification_report\n",
    "import sklearn.metrics"
   ]
  },
  {
   "cell_type": "code",
   "execution_count": 10,
   "metadata": {},
   "outputs": [],
   "source": [
    "# Obtener copia de datos pero omitiendo los campos NA\n",
    "data_clean = myData.dropna()"
   ]
  },
  {
   "cell_type": "code",
   "execution_count": 11,
   "metadata": {},
   "outputs": [],
   "source": [
    "# Campos a analizar y datos target\n",
    "predictors = data_clean[[\"DIRECTOR_GENERO\", \"DIRECTOR_ID\", \"TIEMPO\", \"VOTO_PROMEDIO\", \"POPULARIDAD_DETALLE\", \"VOTO_CONTADOR\", \"GENERO\", \"ANIO\", \"ID_PELICULA\", \"POPULARIDAD\", \"RATING_PROMEDIO\", \"RANKING\"]]\n",
    "targets = data_clean.RANKING"
   ]
  },
  {
   "cell_type": "code",
   "execution_count": 12,
   "metadata": {},
   "outputs": [],
   "source": [
    "# Preparamos division de datos entre entrenamiento y prueba\n",
    "pred_train, pred_test, tar_train, tar_test = train_test_split(predictors, targets, test_size = 0.2)"
   ]
  },
  {
   "cell_type": "code",
   "execution_count": 13,
   "metadata": {},
   "outputs": [],
   "source": [
    "# Se instancia el arbol de decision\n",
    "classifier = DecisionTreeClassifier()\n",
    "classifier = classifier.fit(pred_train, tar_train)"
   ]
  },
  {
   "cell_type": "code",
   "execution_count": 14,
   "metadata": {},
   "outputs": [],
   "source": [
    "# Predecir con los datos de prueba\n",
    "predictions = classifier.predict(pred_test)"
   ]
  },
  {
   "cell_type": "code",
   "execution_count": 15,
   "metadata": {},
   "outputs": [
    {
     "data": {
      "text/plain": [
       "array([[ 168607,       0,       0,       0,       0],\n",
       "       [      0,  409857,       0,       0,       0],\n",
       "       [      0,       0, 1192535,       0,       0],\n",
       "       [      0,       0,       0, 1381728,       0],\n",
       "       [      0,       0,       0,       0,  847273]])"
      ]
     },
     "execution_count": 15,
     "metadata": {},
     "output_type": "execute_result"
    }
   ],
   "source": [
    "# Obtenemos la matriz de confusion\n",
    "sklearn.metrics.confusion_matrix(tar_test, predictions)"
   ]
  },
  {
   "cell_type": "code",
   "execution_count": 16,
   "metadata": {},
   "outputs": [
    {
     "data": {
      "text/plain": [
       "1.0"
      ]
     },
     "execution_count": 16,
     "metadata": {},
     "output_type": "execute_result"
    }
   ],
   "source": [
    "# Medida de acierto\n",
    "sklearn.metrics.accuracy_score(tar_test, predictions)"
   ]
  },
  {
   "cell_type": "code",
   "execution_count": 17,
   "metadata": {},
   "outputs": [],
   "source": [
    "# Librerias para obtener un archivo .dot con los resultados\n",
    "from sklearn import tree\n",
    "from io import StringIO\n",
    "from IPython.display import Image"
   ]
  },
  {
   "cell_type": "code",
   "execution_count": 18,
   "metadata": {},
   "outputs": [],
   "source": [
    "# Exportamos resultados a un archivo resultTree.dot\n",
    "with open(\"resultTree.dot\", \"w\") as f:\n",
    "    f = tree.export_graphviz(classifier, out_file=f)"
   ]
  },
  {
   "cell_type": "code",
   "execution_count": 19,
   "metadata": {},
   "outputs": [],
   "source": [
    "# RANDOM FOREST\n",
    "# Librerias\n",
    "from pandas import Series, DataFrame\n",
    "from sklearn import datasets\n",
    "from sklearn.ensemble import ExtraTreesClassifier\n",
    "from sklearn.ensemble import RandomForestClassifier"
   ]
  },
  {
   "cell_type": "code",
   "execution_count": null,
   "metadata": {},
   "outputs": [],
   "source": [
    "\"\"\"\n",
    "Instanciamos random forest con 25 arboles de estimacion, para luego \n",
    "contruir el modelo con los datos de entrenamiento y despues predecir los\n",
    "datos de prueba. Finalmente obtenemos la matri< de confusión\n",
    "\"\"\"\n",
    "# Instanciamos random forest co\n",
    "classifier = RandomForestClassifier(n_estimators=25)\n",
    "classifier = classifier.fit(pred_train, tar_train)\n",
    "predictions = classifier.predict(pred_test)\n",
    "sklearn.metrics.confusion_matrix(tar_test, predictions)"
   ]
  },
  {
   "cell_type": "code",
   "execution_count": null,
   "metadata": {},
   "outputs": [],
   "source": [
    "sklearn.metrics:accuracy_score(tar_test, predictions)"
   ]
  },
  {
   "cell_type": "code",
   "execution_count": null,
   "metadata": {},
   "outputs": [],
   "source": [
    "# instanciamos el modelo\n",
    "model = ExtraTreesClassifier()"
   ]
  },
  {
   "cell_type": "code",
   "execution_count": null,
   "metadata": {},
   "outputs": [],
   "source": [
    "# Vemos la lista de ajustes del modelo\n",
    "model.fit(pred_train, tar_train)"
   ]
  },
  {
   "cell_type": "code",
   "execution_count": null,
   "metadata": {},
   "outputs": [],
   "source": [
    "# Revisamos la impotancia de cada variable\n",
    "list(model.feature_importances_)"
   ]
  },
  {
   "cell_type": "code",
   "execution_count": null,
   "metadata": {},
   "outputs": [],
   "source": [
    "# Grafica de importancia de cada variable\n",
    "from matplotlib import pyplot\n",
    "pyplot.bar(range(len(model.feature_importances_)), model.feature_importances_)\n",
    "pyplot.show()"
   ]
  },
  {
   "cell_type": "code",
   "execution_count": null,
   "metadata": {},
   "outputs": [],
   "source": []
  }
 ],
 "metadata": {
  "kernelspec": {
   "display_name": "Python 2",
   "language": "python",
   "name": "python2"
  },
  "language_info": {
   "codemirror_mode": {
    "name": "ipython",
    "version": 2
   },
   "file_extension": ".py",
   "mimetype": "text/x-python",
   "name": "python",
   "nbconvert_exporter": "python",
   "pygments_lexer": "ipython2",
   "version": "2.7.12"
  }
 },
 "nbformat": 4,
 "nbformat_minor": 2
}
