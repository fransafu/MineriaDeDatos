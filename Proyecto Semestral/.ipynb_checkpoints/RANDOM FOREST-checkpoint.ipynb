{
 "cells": [
  {
   "cell_type": "code",
   "execution_count": 1,
   "metadata": {},
   "outputs": [
    {
     "name": "stdout",
     "output_type": "stream",
     "text": [
      "Populating the interactive namespace from numpy and matplotlib\n"
     ]
    },
    {
     "data": {
      "text/html": [
       "<div>\n",
       "<style scoped>\n",
       "    .dataframe tbody tr th:only-of-type {\n",
       "        vertical-align: middle;\n",
       "    }\n",
       "\n",
       "    .dataframe tbody tr th {\n",
       "        vertical-align: top;\n",
       "    }\n",
       "\n",
       "    .dataframe thead th {\n",
       "        text-align: right;\n",
       "    }\n",
       "</style>\n",
       "<table border=\"1\" class=\"dataframe\">\n",
       "  <thead>\n",
       "    <tr style=\"text-align: right;\">\n",
       "      <th></th>\n",
       "      <th>DIRECTOR_GENERO</th>\n",
       "      <th>DIRECTOR_ID</th>\n",
       "      <th>TIEMPO</th>\n",
       "      <th>VOTO_PROMEDIO</th>\n",
       "      <th>POPULARIDAD_DETALLE</th>\n",
       "      <th>VOTO_CONTADOR</th>\n",
       "      <th>GENERO</th>\n",
       "      <th>ANIO</th>\n",
       "      <th>ID_PELICULA</th>\n",
       "      <th>POPULARIDAD</th>\n",
       "      <th>RATING_PROMEDIO</th>\n",
       "      <th>RATING</th>\n",
       "    </tr>\n",
       "  </thead>\n",
       "  <tbody>\n",
       "    <tr>\n",
       "      <th>0</th>\n",
       "      <td>2</td>\n",
       "      <td>2</td>\n",
       "      <td>8</td>\n",
       "      <td>7</td>\n",
       "      <td>1,115168</td>\n",
       "      <td>1</td>\n",
       "      <td>11</td>\n",
       "      <td>2003</td>\n",
       "      <td>1</td>\n",
       "      <td>1,115168</td>\n",
       "      <td>3,749543</td>\n",
       "      <td>3</td>\n",
       "    </tr>\n",
       "    <tr>\n",
       "      <th>1</th>\n",
       "      <td>2</td>\n",
       "      <td>2</td>\n",
       "      <td>8</td>\n",
       "      <td>7</td>\n",
       "      <td>1,115168</td>\n",
       "      <td>1</td>\n",
       "      <td>11</td>\n",
       "      <td>2003</td>\n",
       "      <td>1</td>\n",
       "      <td>1,115168</td>\n",
       "      <td>3,749543</td>\n",
       "      <td>5</td>\n",
       "    </tr>\n",
       "    <tr>\n",
       "      <th>2</th>\n",
       "      <td>2</td>\n",
       "      <td>2</td>\n",
       "      <td>8</td>\n",
       "      <td>7</td>\n",
       "      <td>1,115168</td>\n",
       "      <td>1</td>\n",
       "      <td>11</td>\n",
       "      <td>2003</td>\n",
       "      <td>1</td>\n",
       "      <td>1,115168</td>\n",
       "      <td>3,749543</td>\n",
       "      <td>4</td>\n",
       "    </tr>\n",
       "    <tr>\n",
       "      <th>3</th>\n",
       "      <td>2</td>\n",
       "      <td>2</td>\n",
       "      <td>8</td>\n",
       "      <td>7</td>\n",
       "      <td>1,115168</td>\n",
       "      <td>1</td>\n",
       "      <td>11</td>\n",
       "      <td>2003</td>\n",
       "      <td>1</td>\n",
       "      <td>1,115168</td>\n",
       "      <td>3,749543</td>\n",
       "      <td>4</td>\n",
       "    </tr>\n",
       "    <tr>\n",
       "      <th>4</th>\n",
       "      <td>2</td>\n",
       "      <td>2</td>\n",
       "      <td>8</td>\n",
       "      <td>7</td>\n",
       "      <td>1,115168</td>\n",
       "      <td>1</td>\n",
       "      <td>11</td>\n",
       "      <td>2003</td>\n",
       "      <td>1</td>\n",
       "      <td>1,115168</td>\n",
       "      <td>3,749543</td>\n",
       "      <td>3</td>\n",
       "    </tr>\n",
       "  </tbody>\n",
       "</table>\n",
       "</div>"
      ],
      "text/plain": [
       "   DIRECTOR_GENERO  DIRECTOR_ID  TIEMPO  VOTO_PROMEDIO POPULARIDAD_DETALLE  \\\n",
       "0                2            2       8              7            1,115168   \n",
       "1                2            2       8              7            1,115168   \n",
       "2                2            2       8              7            1,115168   \n",
       "3                2            2       8              7            1,115168   \n",
       "4                2            2       8              7            1,115168   \n",
       "\n",
       "   VOTO_CONTADOR  GENERO  ANIO  ID_PELICULA POPULARIDAD RATING_PROMEDIO  \\\n",
       "0              1      11  2003            1    1,115168        3,749543   \n",
       "1              1      11  2003            1    1,115168        3,749543   \n",
       "2              1      11  2003            1    1,115168        3,749543   \n",
       "3              1      11  2003            1    1,115168        3,749543   \n",
       "4              1      11  2003            1    1,115168        3,749543   \n",
       "\n",
       "   RATING  \n",
       "0       3  \n",
       "1       5  \n",
       "2       4  \n",
       "3       4  \n",
       "4       3  "
      ]
     },
     "execution_count": 1,
     "metadata": {},
     "output_type": "execute_result"
    }
   ],
   "source": [
    "# -*- coding: utf-8 -*-\n",
    "\n",
    "# Importar librerias\n",
    "import pandas as pd\n",
    "import matplotlib.pyplot as plt\n",
    "import numpy as np\n",
    "import scipy.stats as stats\n",
    "import seaborn as sns\n",
    "from matplotlib import rcParams\n",
    "\n",
    "# Configuraciones\n",
    "%matplotlib inline \n",
    "%pylab inline \n",
    "\n",
    "# Lectura de archivo\n",
    "myData = pd.read_csv('/home/fransafu/UTEM/Mineria de datos/Proyecto Semestral/data_mineria_de_datos_2.csv', sep=';', encoding='utf-8', nrows=20000000, engine='c')\n",
    "\n",
    "# Mostrar Tabla de datos para archivo\n",
    "myData.head()"
   ]
  },
  {
   "cell_type": "code",
   "execution_count": 2,
   "metadata": {},
   "outputs": [],
   "source": [
    "def data_to_float(data):\n",
    "    return float(data.replace(\",\",\".\"))\n",
    "\n",
    "myData['POPULARIDAD_DETALLE'] = myData['POPULARIDAD_DETALLE'].apply(data_to_float)\n",
    "myData['POPULARIDAD'] = myData['POPULARIDAD'].apply(data_to_float)\n",
    "\n",
    "myData['RATING_PROMEDIO'] = myData['RATING_PROMEDIO'].apply(data_to_float)"
   ]
  },
  {
   "cell_type": "code",
   "execution_count": 3,
   "metadata": {},
   "outputs": [
    {
     "data": {
      "text/plain": [
       "(1048499, 12)"
      ]
     },
     "execution_count": 3,
     "metadata": {},
     "output_type": "execute_result"
    }
   ],
   "source": [
    "# Ver numero de filas y columnas\n",
    "# (filas, columnas)\n",
    "myData.shape"
   ]
  },
  {
   "cell_type": "code",
   "execution_count": 4,
   "metadata": {},
   "outputs": [
    {
     "data": {
      "text/html": [
       "<div>\n",
       "<style scoped>\n",
       "    .dataframe tbody tr th:only-of-type {\n",
       "        vertical-align: middle;\n",
       "    }\n",
       "\n",
       "    .dataframe tbody tr th {\n",
       "        vertical-align: top;\n",
       "    }\n",
       "\n",
       "    .dataframe thead th {\n",
       "        text-align: right;\n",
       "    }\n",
       "</style>\n",
       "<table border=\"1\" class=\"dataframe\">\n",
       "  <thead>\n",
       "    <tr style=\"text-align: right;\">\n",
       "      <th></th>\n",
       "      <th>DIRECTOR_GENERO</th>\n",
       "      <th>DIRECTOR_ID</th>\n",
       "      <th>TIEMPO</th>\n",
       "      <th>VOTO_PROMEDIO</th>\n",
       "      <th>POPULARIDAD_DETALLE</th>\n",
       "      <th>VOTO_CONTADOR</th>\n",
       "      <th>GENERO</th>\n",
       "      <th>ANIO</th>\n",
       "      <th>ID_PELICULA</th>\n",
       "      <th>POPULARIDAD</th>\n",
       "      <th>RATING_PROMEDIO</th>\n",
       "      <th>RATING</th>\n",
       "    </tr>\n",
       "  </thead>\n",
       "  <tbody>\n",
       "    <tr>\n",
       "      <th>count</th>\n",
       "      <td>1.048499e+06</td>\n",
       "      <td>1.048499e+06</td>\n",
       "      <td>1.048499e+06</td>\n",
       "      <td>1.048499e+06</td>\n",
       "      <td>1.048499e+06</td>\n",
       "      <td>1.048499e+06</td>\n",
       "      <td>1.048499e+06</td>\n",
       "      <td>1.048499e+06</td>\n",
       "      <td>1.048499e+06</td>\n",
       "      <td>1.048499e+06</td>\n",
       "      <td>1.048499e+06</td>\n",
       "      <td>1.048499e+06</td>\n",
       "    </tr>\n",
       "    <tr>\n",
       "      <th>mean</th>\n",
       "      <td>1.831323e+00</td>\n",
       "      <td>2.428457e+00</td>\n",
       "      <td>4.855617e+00</td>\n",
       "      <td>6.589754e+00</td>\n",
       "      <td>1.398413e+01</td>\n",
       "      <td>9.807460e+02</td>\n",
       "      <td>5.863397e+00</td>\n",
       "      <td>1.994865e+03</td>\n",
       "      <td>8.986214e+01</td>\n",
       "      <td>1.398413e+01</td>\n",
       "      <td>3.631828e+00</td>\n",
       "      <td>3.631826e+00</td>\n",
       "    </tr>\n",
       "    <tr>\n",
       "      <th>std</th>\n",
       "      <td>4.140849e-01</td>\n",
       "      <td>1.681779e+00</td>\n",
       "      <td>1.666140e+00</td>\n",
       "      <td>1.029526e+00</td>\n",
       "      <td>6.598721e+00</td>\n",
       "      <td>1.290811e+03</td>\n",
       "      <td>3.247960e+00</td>\n",
       "      <td>1.092094e+01</td>\n",
       "      <td>5.859875e+01</td>\n",
       "      <td>6.598721e+00</td>\n",
       "      <td>3.473008e-01</td>\n",
       "      <td>1.047041e+00</td>\n",
       "    </tr>\n",
       "    <tr>\n",
       "      <th>min</th>\n",
       "      <td>0.000000e+00</td>\n",
       "      <td>1.000000e+00</td>\n",
       "      <td>1.000000e+00</td>\n",
       "      <td>0.000000e+00</td>\n",
       "      <td>1.002391e+00</td>\n",
       "      <td>0.000000e+00</td>\n",
       "      <td>1.000000e+00</td>\n",
       "      <td>1.927000e+03</td>\n",
       "      <td>1.000000e+00</td>\n",
       "      <td>1.002391e+00</td>\n",
       "      <td>1.954545e+00</td>\n",
       "      <td>1.000000e+00</td>\n",
       "    </tr>\n",
       "    <tr>\n",
       "      <th>25%</th>\n",
       "      <td>2.000000e+00</td>\n",
       "      <td>1.000000e+00</td>\n",
       "      <td>4.000000e+00</td>\n",
       "      <td>6.000000e+00</td>\n",
       "      <td>9.397158e+00</td>\n",
       "      <td>1.100000e+02</td>\n",
       "      <td>4.000000e+00</td>\n",
       "      <td>1.992000e+03</td>\n",
       "      <td>3.000000e+01</td>\n",
       "      <td>9.397158e+00</td>\n",
       "      <td>3.495171e+00</td>\n",
       "      <td>3.000000e+00</td>\n",
       "    </tr>\n",
       "    <tr>\n",
       "      <th>50%</th>\n",
       "      <td>2.000000e+00</td>\n",
       "      <td>2.000000e+00</td>\n",
       "      <td>5.000000e+00</td>\n",
       "      <td>6.000000e+00</td>\n",
       "      <td>1.281898e+01</td>\n",
       "      <td>4.340000e+02</td>\n",
       "      <td>4.000000e+00</td>\n",
       "      <td>1.997000e+03</td>\n",
       "      <td>7.900000e+01</td>\n",
       "      <td>1.281898e+01</td>\n",
       "      <td>3.761842e+00</td>\n",
       "      <td>4.000000e+00</td>\n",
       "    </tr>\n",
       "    <tr>\n",
       "      <th>75%</th>\n",
       "      <td>2.000000e+00</td>\n",
       "      <td>3.000000e+00</td>\n",
       "      <td>6.000000e+00</td>\n",
       "      <td>7.000000e+00</td>\n",
       "      <td>1.716392e+01</td>\n",
       "      <td>1.423000e+03</td>\n",
       "      <td>7.000000e+00</td>\n",
       "      <td>2.003000e+03</td>\n",
       "      <td>1.480000e+02</td>\n",
       "      <td>1.716392e+01</td>\n",
       "      <td>3.823254e+00</td>\n",
       "      <td>4.000000e+00</td>\n",
       "    </tr>\n",
       "    <tr>\n",
       "      <th>max</th>\n",
       "      <td>2.000000e+00</td>\n",
       "      <td>6.000000e+00</td>\n",
       "      <td>8.000000e+00</td>\n",
       "      <td>8.000000e+00</td>\n",
       "      <td>2.478159e+01</td>\n",
       "      <td>3.974000e+03</td>\n",
       "      <td>1.600000e+01</td>\n",
       "      <td>2.005000e+03</td>\n",
       "      <td>1.750000e+02</td>\n",
       "      <td>2.478159e+01</td>\n",
       "      <td>4.003847e+00</td>\n",
       "      <td>5.000000e+00</td>\n",
       "    </tr>\n",
       "  </tbody>\n",
       "</table>\n",
       "</div>"
      ],
      "text/plain": [
       "       DIRECTOR_GENERO   DIRECTOR_ID        TIEMPO  VOTO_PROMEDIO  \\\n",
       "count     1.048499e+06  1.048499e+06  1.048499e+06   1.048499e+06   \n",
       "mean      1.831323e+00  2.428457e+00  4.855617e+00   6.589754e+00   \n",
       "std       4.140849e-01  1.681779e+00  1.666140e+00   1.029526e+00   \n",
       "min       0.000000e+00  1.000000e+00  1.000000e+00   0.000000e+00   \n",
       "25%       2.000000e+00  1.000000e+00  4.000000e+00   6.000000e+00   \n",
       "50%       2.000000e+00  2.000000e+00  5.000000e+00   6.000000e+00   \n",
       "75%       2.000000e+00  3.000000e+00  6.000000e+00   7.000000e+00   \n",
       "max       2.000000e+00  6.000000e+00  8.000000e+00   8.000000e+00   \n",
       "\n",
       "       POPULARIDAD_DETALLE  VOTO_CONTADOR        GENERO          ANIO  \\\n",
       "count         1.048499e+06   1.048499e+06  1.048499e+06  1.048499e+06   \n",
       "mean          1.398413e+01   9.807460e+02  5.863397e+00  1.994865e+03   \n",
       "std           6.598721e+00   1.290811e+03  3.247960e+00  1.092094e+01   \n",
       "min           1.002391e+00   0.000000e+00  1.000000e+00  1.927000e+03   \n",
       "25%           9.397158e+00   1.100000e+02  4.000000e+00  1.992000e+03   \n",
       "50%           1.281898e+01   4.340000e+02  4.000000e+00  1.997000e+03   \n",
       "75%           1.716392e+01   1.423000e+03  7.000000e+00  2.003000e+03   \n",
       "max           2.478159e+01   3.974000e+03  1.600000e+01  2.005000e+03   \n",
       "\n",
       "        ID_PELICULA   POPULARIDAD  RATING_PROMEDIO        RATING  \n",
       "count  1.048499e+06  1.048499e+06     1.048499e+06  1.048499e+06  \n",
       "mean   8.986214e+01  1.398413e+01     3.631828e+00  3.631826e+00  \n",
       "std    5.859875e+01  6.598721e+00     3.473008e-01  1.047041e+00  \n",
       "min    1.000000e+00  1.002391e+00     1.954545e+00  1.000000e+00  \n",
       "25%    3.000000e+01  9.397158e+00     3.495171e+00  3.000000e+00  \n",
       "50%    7.900000e+01  1.281898e+01     3.761842e+00  4.000000e+00  \n",
       "75%    1.480000e+02  1.716392e+01     3.823254e+00  4.000000e+00  \n",
       "max    1.750000e+02  2.478159e+01     4.003847e+00  5.000000e+00  "
      ]
     },
     "execution_count": 4,
     "metadata": {},
     "output_type": "execute_result"
    }
   ],
   "source": [
    "# Describir datos\n",
    "myData.describe()"
   ]
  },
  {
   "cell_type": "code",
   "execution_count": 5,
   "metadata": {},
   "outputs": [
    {
     "name": "stderr",
     "output_type": "stream",
     "text": [
      "/usr/local/lib/python2.7/dist-packages/sklearn/cross_validation.py:41: DeprecationWarning: This module was deprecated in version 0.18 in favor of the model_selection module into which all the refactored classes and functions are moved. Also note that the interface of the new CV iterators are different from that of this module. This module will be removed in 0.20.\n",
      "  \"This module will be removed in 0.20.\", DeprecationWarning)\n"
     ]
    }
   ],
   "source": [
    "# RANDOM FOREST\n",
    "# Librerias\n",
    "from pandas import Series, DataFrame\n",
    "from sklearn import datasets\n",
    "from sklearn.cross_validation import train_test_split\n",
    "from sklearn.ensemble import ExtraTreesClassifier\n",
    "from sklearn.ensemble import RandomForestClassifier\n",
    "import sklearn.metrics"
   ]
  },
  {
   "cell_type": "code",
   "execution_count": 6,
   "metadata": {},
   "outputs": [],
   "source": [
    "# Obtener copia de datos pero omitiendo los campos NA\n",
    "data_clean = myData.dropna()\n",
    "\n",
    "# Campos a analizar y datos target\n",
    "predictors = data_clean[[\n",
    "\"VOTO_PROMEDIO\",\n",
    "\"POPULARIDAD_DETALLE\",\n",
    "\"VOTO_CONTADOR\",\n",
    "\"ANIO\",\n",
    "\"ID_PELICULA\",\n",
    "\"POPULARIDAD\",\n",
    "\"RATING_PROMEDIO\"\n",
    "]]\n",
    "targets = data_clean.RATING\n",
    "\n",
    "# Preparamos division de datos entre entrenamiento y prueba\n",
    "pred_train, pred_test, tar_train, tar_test = train_test_split(predictors, targets, test_size = 0.2)"
   ]
  },
  {
   "cell_type": "code",
   "execution_count": 7,
   "metadata": {},
   "outputs": [
    {
     "data": {
      "text/plain": [
       "array([[  186,   126,  4214,  2804,   904],\n",
       "       [  151,   149,  9173,  8311,  1707],\n",
       "       [   94,   106, 18808, 35012,  5099],\n",
       "       [   31,    24, 13557, 51972, 10774],\n",
       "       [   18,    12,  5336, 29685, 11447]])"
      ]
     },
     "execution_count": 7,
     "metadata": {},
     "output_type": "execute_result"
    }
   ],
   "source": [
    "\"\"\"\n",
    "Instanciamos random forest con 25 arboles de estimacion, para luego \n",
    "contruir el modelo con los datos de entrenamiento y despues predecir los\n",
    "datos de prueba. Finalmente obtenemos la matri< de confusión\n",
    "\"\"\"\n",
    "# Instanciamos random forest co\n",
    "classifier = RandomForestClassifier(n_estimators=25)\n",
    "classifier = classifier.fit(pred_train, tar_train)\n",
    "predictions = classifier.predict(pred_test)\n",
    "sklearn.metrics.confusion_matrix(tar_test, predictions)"
   ]
  },
  {
   "cell_type": "code",
   "execution_count": 8,
   "metadata": {},
   "outputs": [
    {
     "data": {
      "text/plain": [
       "0.39371483071053887"
      ]
     },
     "execution_count": 8,
     "metadata": {},
     "output_type": "execute_result"
    }
   ],
   "source": [
    "sklearn.metrics.accuracy_score(tar_test, predictions)"
   ]
  },
  {
   "cell_type": "code",
   "execution_count": 9,
   "metadata": {},
   "outputs": [
    {
     "data": {
      "text/plain": [
       "ExtraTreesClassifier(bootstrap=False, class_weight=None, criterion='gini',\n",
       "           max_depth=None, max_features='auto', max_leaf_nodes=None,\n",
       "           min_impurity_decrease=0.0, min_impurity_split=None,\n",
       "           min_samples_leaf=1, min_samples_split=2,\n",
       "           min_weight_fraction_leaf=0.0, n_estimators=10, n_jobs=1,\n",
       "           oob_score=False, random_state=None, verbose=0, warm_start=False)"
      ]
     },
     "execution_count": 9,
     "metadata": {},
     "output_type": "execute_result"
    }
   ],
   "source": [
    "# instanciamos el modelo\n",
    "model = ExtraTreesClassifier()\n",
    "# Vemos la lista de ajustes del modelo\n",
    "model.fit(pred_train, tar_train)"
   ]
  },
  {
   "cell_type": "code",
   "execution_count": 10,
   "metadata": {},
   "outputs": [
    {
     "data": {
      "image/png": "[encoded data removed]",
      "text/plain": [
       "<matplotlib.figure.Figure at 0x7fb75b6965d0>"
      ]
     },
     "metadata": {},
     "output_type": "display_data"
    }
   ],
   "source": [
    "# Grafica de importancia de cada variable\n",
    "from matplotlib import pyplot\n",
    "pyplot.bar(range(len(model.feature_importances_)), model.feature_importances_)\n",
    "pyplot.show()"
   ]
  },
  {
   "cell_type": "code",
   "execution_count": null,
   "metadata": {},
   "outputs": [],
   "source": []
  }
 ],
 "metadata": {
  "kernelspec": {
   "display_name": "Python 2",
   "language": "python",
   "name": "python2"
  },
  "language_info": {
   "codemirror_mode": {
    "name": "ipython",
    "version": 2
   },
   "file_extension": ".py",
   "mimetype": "text/x-python",
   "name": "python",
   "nbconvert_exporter": "python",
   "pygments_lexer": "ipython2",
   "version": "2.7.12"
  }
 },
 "nbformat": 4,
 "nbformat_minor": 2
}
