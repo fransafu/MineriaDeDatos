{
 "cells": [
  {
   "cell_type": "markdown",
   "metadata": {},
   "source": [
    "# Primeros Pasos"
   ]
  },
  {
   "cell_type": "markdown",
   "metadata": {},
   "source": [
    "### Imprimir, Variables y Aritmetica"
   ]
  },
  {
   "cell_type": "code",
   "execution_count": 1,
   "metadata": {
    "collapsed": false
   },
   "outputs": [
    {
     "name": "stdout",
     "output_type": "stream",
     "text": [
      "Estamos listos para comenzar\n"
     ]
    }
   ],
   "source": [
    "# Imprimir\n",
    "print 'Estamos listos para comenzar'"
   ]
  },
  {
   "cell_type": "code",
   "execution_count": 7,
   "metadata": {
    "collapsed": false
   },
   "outputs": [
    {
     "name": "stdout",
     "output_type": "stream",
     "text": [
      "10\n",
      "5\n"
     ]
    }
   ],
   "source": [
    "# Variables\n",
    "a = 10\n",
    "print a\n",
    "b = 5\n",
    "print b"
   ]
  },
  {
   "cell_type": "code",
   "execution_count": 8,
   "metadata": {
    "collapsed": false
   },
   "outputs": [
    {
     "name": "stdout",
     "output_type": "stream",
     "text": [
      "15\n",
      "50\n",
      "2\n",
      "5\n"
     ]
    }
   ],
   "source": [
    "# Aritmetica\n",
    "print a + b\n",
    "print a * b\n",
    "print a / b\n",
    "print a - b"
   ]
  },
  {
   "cell_type": "code",
   "execution_count": 9,
   "metadata": {
    "collapsed": false
   },
   "outputs": [
    {
     "name": "stdout",
     "output_type": "stream",
     "text": [
      "15\n"
     ]
    }
   ],
   "source": [
    "# Actualizar\n",
    "a = a + b\n",
    "print a"
   ]
  },
  {
   "cell_type": "code",
   "execution_count": 10,
   "metadata": {
    "collapsed": false
   },
   "outputs": [
    {
     "name": "stdout",
     "output_type": "stream",
     "text": [
      "20\n"
     ]
    }
   ],
   "source": [
    "# Incremento\n",
    "a += b\n",
    "print a"
   ]
  },
  {
   "cell_type": "markdown",
   "metadata": {},
   "source": [
    "### Tipos"
   ]
  },
  {
   "cell_type": "code",
   "execution_count": 11,
   "metadata": {
    "collapsed": false
   },
   "outputs": [
    {
     "name": "stdout",
     "output_type": "stream",
     "text": [
      "<type 'int'>\n",
      "<type 'str'>\n",
      "<type 'float'>\n"
     ]
    }
   ],
   "source": [
    "# Inferencia dinámica de los tipos\n",
    "a = 10\n",
    "print type(a)\n",
    "a = '10'\n",
    "print type(a)\n",
    "a = 10.0\n",
    "print type(a)"
   ]
  },
  {
   "cell_type": "code",
   "execution_count": 12,
   "metadata": {
    "collapsed": false
   },
   "outputs": [
    {
     "ename": "TypeError",
     "evalue": "unsupported operand type(s) for +: 'int' and 'str'",
     "output_type": "error",
     "traceback": [
      "\u001b[0;31m---------------------------------------------------------------------------\u001b[0m",
      "\u001b[0;31mTypeError\u001b[0m                                 Traceback (most recent call last)",
      "\u001b[0;32m<ipython-input-12-7a6837c5abf5>\u001b[0m in \u001b[0;36m<module>\u001b[0;34m()\u001b[0m\n\u001b[1;32m      2\u001b[0m \u001b[0ma\u001b[0m \u001b[0;34m=\u001b[0m \u001b[0;36m10\u001b[0m\u001b[0;34m\u001b[0m\u001b[0m\n\u001b[1;32m      3\u001b[0m \u001b[0mb\u001b[0m \u001b[0;34m=\u001b[0m \u001b[0;34m'5'\u001b[0m\u001b[0;34m\u001b[0m\u001b[0m\n\u001b[0;32m----> 4\u001b[0;31m \u001b[0;32mprint\u001b[0m \u001b[0ma\u001b[0m \u001b[0;34m+\u001b[0m \u001b[0mb\u001b[0m\u001b[0;34m\u001b[0m\u001b[0m\n\u001b[0m",
      "\u001b[0;31mTypeError\u001b[0m: unsupported operand type(s) for +: 'int' and 'str'"
     ]
    }
   ],
   "source": [
    "# Validación de tipos\n",
    "a = 10\n",
    "b = '5'\n",
    "print a + b"
   ]
  },
  {
   "cell_type": "code",
   "execution_count": 13,
   "metadata": {
    "collapsed": false
   },
   "outputs": [
    {
     "name": "stdout",
     "output_type": "stream",
     "text": [
      "15\n"
     ]
    }
   ],
   "source": [
    "# Conversión\n",
    "a = 10\n",
    "b = '5'\n",
    "print a + int(b)"
   ]
  },
  {
   "cell_type": "code",
   "execution_count": 14,
   "metadata": {
    "collapsed": false
   },
   "outputs": [
    {
     "name": "stdout",
     "output_type": "stream",
     "text": [
      "15.0\n"
     ]
    }
   ],
   "source": [
    "# Conversión automática (int en float)\n",
    "a = 10\n",
    "b = 5.0\n",
    "print a + b"
   ]
  },
  {
   "cell_type": "code",
   "execution_count": 15,
   "metadata": {
    "collapsed": false
   },
   "outputs": [
    {
     "name": "stdout",
     "output_type": "stream",
     "text": [
      "2\n",
      "0\n"
     ]
    }
   ],
   "source": [
    "# División de enteros\n",
    "a = 10\n",
    "b = 5\n",
    "print a/b\n",
    "print b/a"
   ]
  },
  {
   "cell_type": "code",
   "execution_count": 16,
   "metadata": {
    "collapsed": false
   },
   "outputs": [
    {
     "data": {
      "text/plain": [
       "0.5"
      ]
     },
     "execution_count": 16,
     "metadata": {},
     "output_type": "execute_result"
    }
   ],
   "source": [
    "5/10.0"
   ]
  },
  {
   "cell_type": "code",
   "execution_count": 17,
   "metadata": {
    "collapsed": false
   },
   "outputs": [
    {
     "name": "stdout",
     "output_type": "stream",
     "text": [
      "0.0\n"
     ]
    }
   ],
   "source": [
    "# Forzar float en la división\n",
    "print float(b/a)\n",
    "# Esta correcto?"
   ]
  },
  {
   "cell_type": "code",
   "execution_count": 19,
   "metadata": {
    "collapsed": false
   },
   "outputs": [
    {
     "name": "stdout",
     "output_type": "stream",
     "text": [
      "Profesor Pablo Figueroa\n"
     ]
    }
   ],
   "source": [
    "# \"Aritmetica\" de texto (concatenar)\n",
    "a = 'Profesor '\n",
    "b = 'Pablo Figueroa'\n",
    "print a + b"
   ]
  },
  {
   "cell_type": "markdown",
   "metadata": {},
   "source": [
    "### Ingresar valores"
   ]
  },
  {
   "cell_type": "code",
   "execution_count": 22,
   "metadata": {
    "collapsed": false
   },
   "outputs": [
    {
     "name": "stdout",
     "output_type": "stream",
     "text": [
      "Ingresar valor 1: 10\n",
      "Ingresar valor 2: 13\n",
      "23\n"
     ]
    }
   ],
   "source": [
    "a = input('Ingresar valor 1: ')\n",
    "b = input('Ingresar valor 2: ')\n",
    "print a + b"
   ]
  },
  {
   "cell_type": "code",
   "execution_count": 23,
   "metadata": {
    "collapsed": false
   },
   "outputs": [
    {
     "name": "stdout",
     "output_type": "stream",
     "text": [
      "Enter value 1: 3\n",
      "Enter value 2: 2\n",
      "5\n"
     ]
    }
   ],
   "source": [
    "# Nota: input() función esperá números\n",
    "a = input('Enter value 1: ')\n",
    "b = input('Enter value 2: ')\n",
    "print a + b"
   ]
  },
  {
   "cell_type": "markdown",
   "metadata": {},
   "source": [
    "### Conditional (If)"
   ]
  },
  {
   "cell_type": "code",
   "execution_count": 27,
   "metadata": {
    "collapsed": false
   },
   "outputs": [
    {
     "name": "stdout",
     "output_type": "stream",
     "text": [
      "Condición no encontrada\n",
      "pero es menor que 5\n"
     ]
    }
   ],
   "source": [
    "a = 2\n",
    "if a > 10:\n",
    "    print 'a es mayor que 10'\n",
    "    if a >= 15:\n",
    "        print 'a es mayor que 15'\n",
    "elif a > 5:\n",
    "    print 'a mayor que 5 pero menor que 10'\n",
    "else:\n",
    "    print 'Condición no encontrada'\n",
    "    print 'pero es menor que 5'"
   ]
  },
  {
   "cell_type": "markdown",
   "metadata": {},
   "source": [
    "### <font color = 'green'>Soltar la mano</font>"
   ]
  },
  {
   "cell_type": "code",
   "execution_count": 28,
   "metadata": {
    "collapsed": false
   },
   "outputs": [],
   "source": [
    "# Escribir un programa que solicite un número y\n",
    "# calcule el cuadrado de ese número.\n",
    "# Si el cuadrado es 100 o mayor, imprima el valor al cuadrado\n",
    "# y la palabra 'grande'.\n",
    "# De lo contrario si el cuadrado está entre 50 y 99, imprima el\n",
    "# valor al cuadrado y la palabra 'medio'.\n",
    "# De lo contrario, simplemente imprima 'demasiado pequeño para molestarlo'.\n",
    "# Nota: Para calcular x al cuadrado, utilice x * x o x ** 2"
   ]
  },
  {
   "cell_type": "markdown",
   "metadata": {},
   "source": [
    "### Listas y ciclo For"
   ]
  },
  {
   "cell_type": "code",
   "execution_count": 29,
   "metadata": {
    "collapsed": false
   },
   "outputs": [
    {
     "name": "stdout",
     "output_type": "stream",
     "text": [
      "[2, 4, 7, 9]\n",
      "<type 'list'>\n",
      "4\n"
     ]
    }
   ],
   "source": [
    "# Lista\n",
    "a = [2, 4, 7, 9]\n",
    "print a\n",
    "print type(a)\n",
    "print len(a)"
   ]
  },
  {
   "cell_type": "code",
   "execution_count": 30,
   "metadata": {
    "collapsed": false
   },
   "outputs": [
    {
     "name": "stdout",
     "output_type": "stream",
     "text": [
      "2 4\n",
      "4 8\n",
      "7 14\n",
      "9 18\n"
     ]
    }
   ],
   "source": [
    "# Iterar una lista\n",
    "for x in a:\n",
    "    print x, 2 * x"
   ]
  },
  {
   "cell_type": "code",
   "execution_count": 31,
   "metadata": {
    "collapsed": false
   },
   "outputs": [
    {
     "name": "stdout",
     "output_type": "stream",
     "text": [
      "4\n",
      "9\n"
     ]
    }
   ],
   "source": [
    "# acceder a los elementos de una lista por el indice (inicia en cero)\n",
    "print a[1]\n",
    "print a[3]"
   ]
  },
  {
   "cell_type": "code",
   "execution_count": 32,
   "metadata": {
    "collapsed": false
   },
   "outputs": [
    {
     "name": "stdout",
     "output_type": "stream",
     "text": [
      "[2, 4]\n",
      "[4, 7, 9]\n"
     ]
    }
   ],
   "source": [
    "# Prefijo y sufijo de la lista\n",
    "print a[:2]\n",
    "print a[1:]"
   ]
  },
  {
   "cell_type": "code",
   "execution_count": 33,
   "metadata": {
    "collapsed": false
   },
   "outputs": [
    {
     "name": "stdout",
     "output_type": "stream",
     "text": [
      "[2, 4, 7, 9, 12, 14]\n"
     ]
    }
   ],
   "source": [
    "# Agregar a la lista\n",
    "a.append(12)\n",
    "a.append(14)\n",
    "print a"
   ]
  },
  {
   "cell_type": "code",
   "execution_count": 34,
   "metadata": {
    "collapsed": false
   },
   "outputs": [
    {
     "name": "stdout",
     "output_type": "stream",
     "text": [
      "[2, 4, 7, 9, 12, 14, 15, 20, 30]\n"
     ]
    }
   ],
   "source": [
    "# Concatenar listas\n",
    "a = a + [15, 20, 30]\n",
    "print a"
   ]
  },
  {
   "cell_type": "code",
   "execution_count": 35,
   "metadata": {
    "collapsed": false
   },
   "outputs": [
    {
     "name": "stdout",
     "output_type": "stream",
     "text": [
      "[1, 'two', 3.0, [4, 5, 6]]\n",
      "<type 'list'>\n",
      "<type 'int'> <type 'str'> <type 'float'> <type 'list'>\n"
     ]
    }
   ],
   "source": [
    "# Los elementos de las listas, pueden ser de distintos tipos\n",
    "a = [1, 'two', 3.0, [4,5,6]]\n",
    "print a\n",
    "print type(a)\n",
    "print type(a[0]), type(a[1]), type(a[2]), type (a[3])"
   ]
  },
  {
   "cell_type": "markdown",
   "metadata": {},
   "source": [
    "### Diccionarios (asignaciones de valores clave)"
   ]
  },
  {
   "cell_type": "code",
   "execution_count": 40,
   "metadata": {
    "collapsed": false
   },
   "outputs": [
    {
     "name": "stdout",
     "output_type": "stream",
     "text": [
      "{'edad': 31, 'nombre': 'Pablo', 'sexo': 'M'}\n",
      "<type 'dict'>\n"
     ]
    }
   ],
   "source": [
    "# Diccionario\n",
    "a = {'nombre': 'Pablo', 'edad': 31, 'sexo': 'M'}\n",
    "print a\n",
    "print type(a)"
   ]
  },
  {
   "cell_type": "code",
   "execution_count": 38,
   "metadata": {
    "collapsed": false
   },
   "outputs": [
    {
     "name": "stdout",
     "output_type": "stream",
     "text": [
      "Pablo\n"
     ]
    }
   ],
   "source": [
    "# Valor de acceso del elemento por clave\n",
    "print a['nombre']"
   ]
  },
  {
   "cell_type": "code",
   "execution_count": 41,
   "metadata": {
    "collapsed": false
   },
   "outputs": [
    {
     "name": "stdout",
     "output_type": "stream",
     "text": [
      "{'edad': 32, 'nombre': 'Pablo', 'sexo': 'M'}\n"
     ]
    }
   ],
   "source": [
    "# Modificar valores\n",
    "a['edad'] = 32\n",
    "print a"
   ]
  },
  {
   "cell_type": "code",
   "execution_count": 48,
   "metadata": {
    "collapsed": false
   },
   "outputs": [
    {
     "name": "stdout",
     "output_type": "stream",
     "text": [
      "Pablo es viejo\n",
      "Esteban es joven\n",
      "Javier es joven\n",
      "Ricardo es viejo\n"
     ]
    }
   ],
   "source": [
    "# Iterando a través de una lista de diccionarios\n",
    "dlist = [{'nombre':'Pablo', 'edad':32}, {'nombre':'Esteban', 'edad':15},\n",
    "         {'nombre':'Javier', 'edad':10}, {'nombre':'Ricardo', 'edad':40}]\n",
    "for x in dlist:\n",
    "    if x['edad'] >= 30:\n",
    "        print x['nombre'], 'es viejo'\n",
    "    if x['edad'] < 20:\n",
    "        print x['nombre'], 'es joven'"
   ]
  },
  {
   "cell_type": "code",
   "execution_count": 49,
   "metadata": {
    "collapsed": false
   },
   "outputs": [
    {
     "name": "stdout",
     "output_type": "stream",
     "text": [
      "{'edad': 32, 'nombre': 'Pablo', 'salario': 100, 'sexo': 'M'}\n"
     ]
    }
   ],
   "source": [
    "# Añadir nuevo par clave-valor\n",
    "a['salario'] = 100\n",
    "print a"
   ]
  },
  {
   "cell_type": "code",
   "execution_count": 50,
   "metadata": {
    "collapsed": false
   },
   "outputs": [
    {
     "name": "stdout",
     "output_type": "stream",
     "text": [
      "{'nombre': 'Profesor'}\n"
     ]
    }
   ],
   "source": [
    "# Duplicar claves no permitidas \n",
    "a = {'nombre': 'Pablo', 'nombre': 'Profesor'}\n",
    "print a"
   ]
  },
  {
   "cell_type": "markdown",
   "metadata": {},
   "source": [
    "### <font color = 'green'>Ejercicio</font>"
   ]
  },
  {
   "cell_type": "code",
   "execution_count": 51,
   "metadata": {
    "collapsed": false
   },
   "outputs": [],
   "source": [
    "# A continuación se muestra el código que crea una lista de cuatro elementos,\n",
    "# representados como diccionarios que especifican la\n",
    "# color y tamaño.\n",
    "# Añadir código para pedir un número, luego imprimir el color de todos\n",
    "# elementos cuyo tamaño es mayor que ese número.\n",
    "\n",
    "items = [{'color':'red', 'size':10}, {'color':'blue', 'size':3},\\\n",
    "         {'color':'green', 'size':15}, {'color':'yellow', 'size':6}]"
   ]
  },
  {
   "cell_type": "markdown",
   "metadata": {},
   "source": [
    "### Ciclo While"
   ]
  },
  {
   "cell_type": "code",
   "execution_count": 52,
   "metadata": {
    "collapsed": false
   },
   "outputs": [
    {
     "name": "stdout",
     "output_type": "stream",
     "text": [
      "Ingrese un número, 0 para detenerse: 3\n",
      "3\n",
      "Ingrese un número, 0 para detenerse: 2\n",
      "2\n",
      "Ingrese un número, 0 para detenerse: 4\n",
      "4\n",
      "Ingrese un número, 0 para detenerse: 5\n",
      "5\n",
      "Ingrese un número, 0 para detenerse: 0\n"
     ]
    }
   ],
   "source": [
    "# Si el usuario ingresa 0, se detiene\n",
    "a = input('Ingrese un número, 0 para detenerse: ')\n",
    "while a <> 0:\n",
    "    print a\n",
    "    a = input('Ingrese un número, 0 para detenerse: ')"
   ]
  },
  {
   "cell_type": "markdown",
   "metadata": {},
   "source": [
    "### <font color = 'green'>Ejercicio</font>"
   ]
  },
  {
   "cell_type": "code",
   "execution_count": 53,
   "metadata": {
    "collapsed": false
   },
   "outputs": [],
   "source": [
    "# Crear un bucle que solicite dos números, e imprima los colores\n",
    "# de todos los elementos cuyo tamaño está entre los dos números, es decir,\n",
    "# Cuyo tamaño es mayor que el primer número e inferior al segundo número.\n",
    "# Si el segundo número del usuario es igual o menor que\n",
    "# El primer número, el programa debe imprimir 'Hecho' y detenerse.\n",
    "# Nota: para el \"y\" de dos condiciones C1 y C2, utilice \"C1 and C2\""
   ]
  },
  {
   "cell_type": "markdown",
   "metadata": {},
   "source": [
    "### Nombres  de Variables"
   ]
  },
  {
   "cell_type": "code",
   "execution_count": 57,
   "metadata": {
    "collapsed": false
   },
   "outputs": [
    {
     "name": "stdout",
     "output_type": "stream",
     "text": [
      "10\n",
      "10\n",
      "40\n",
      "29\n",
      "52\n"
     ]
    }
   ],
   "source": [
    "a = 10\n",
    "print a\n",
    "lavariablemaslargaqueunapersonapuedaescribirparaprobaralgo = 10\n",
    "print lavariablemaslargaqueunapersonapuedaescribirparaprobaralgo\n",
    "edades = [22, 40, 16, 29, 52]\n",
    "for edad in edades:\n",
    "    if edad > 25: print edad"
   ]
  },
  {
   "cell_type": "markdown",
   "metadata": {},
   "source": [
    "### Functiones"
   ]
  },
  {
   "cell_type": "code",
   "execution_count": 58,
   "metadata": {
    "collapsed": true
   },
   "outputs": [],
   "source": [
    "# Función simple que retorna un valor\n",
    "def simple():\n",
    "    print 'This function has no arguments or return value'"
   ]
  },
  {
   "cell_type": "code",
   "execution_count": 59,
   "metadata": {
    "collapsed": false
   },
   "outputs": [
    {
     "name": "stdout",
     "output_type": "stream",
     "text": [
      "This function has no arguments or return value\n",
      "This function has no arguments or return value\n",
      "This function has no arguments or return value\n",
      "This function has no arguments or return value\n",
      "This function has no arguments or return value\n"
     ]
    }
   ],
   "source": [
    "# llamar la funcion 5 veces\n",
    "for i in [1,2,3,4,5]:\n",
    "    simple()"
   ]
  },
  {
   "cell_type": "code",
   "execution_count": 61,
   "metadata": {
    "collapsed": false
   },
   "outputs": [],
   "source": [
    "# funcion que suma elementos\n",
    "def agregar(a, b):\n",
    "    return a + b"
   ]
  },
  {
   "cell_type": "code",
   "execution_count": 64,
   "metadata": {
    "collapsed": false
   },
   "outputs": [
    {
     "name": "stdout",
     "output_type": "stream",
     "text": [
      "x es 1   y es 2   la suma es 3\n",
      "x es 20   y es 21   la suma es 41\n",
      "x es 5   y es 6   la suma es 11\n",
      "x es 14   y es 15   la suma es 29\n",
      "x es 56   y es 57   la suma es 113\n"
     ]
    }
   ],
   "source": [
    "# llamar la funcion 5 veces\n",
    "for i in [1,20,5,14,56]:\n",
    "    print 'x es', i, '  y es', i+1, '  la suma es', agregar(i,i+1)"
   ]
  },
  {
   "cell_type": "code",
   "execution_count": null,
   "metadata": {
    "collapsed": true
   },
   "outputs": [],
   "source": [
    "### Python pandas library - storing and manipulating data in \"dataframes\" (tables)"
   ]
  },
  {
   "cell_type": "code",
   "execution_count": null,
   "metadata": {
    "collapsed": true
   },
   "outputs": [],
   "source": []
  }
 ],
 "metadata": {
  "kernelspec": {
   "display_name": "Python 2",
   "language": "python",
   "name": "python2"
  },
  "language_info": {
   "codemirror_mode": {
    "name": "ipython",
    "version": 2
   },
   "file_extension": ".py",
   "mimetype": "text/x-python",
   "name": "python",
   "nbconvert_exporter": "python",
   "pygments_lexer": "ipython2",
   "version": "2.7.9"
  }
 },
 "nbformat": 4,
 "nbformat_minor": 0
}
